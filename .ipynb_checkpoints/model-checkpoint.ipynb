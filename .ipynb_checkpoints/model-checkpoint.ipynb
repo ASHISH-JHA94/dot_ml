{
 "cells": [
  {
   "cell_type": "code",
   "execution_count": 11,
   "metadata": {},
   "outputs": [
    {
     "name": "stderr",
     "output_type": "stream",
     "text": [
      "WARNING:  You must pass the application as an import string to enable 'reload' or 'workers'.\n"
     ]
    },
    {
     "ename": "SystemExit",
     "evalue": "1",
     "output_type": "error",
     "traceback": [
      "An exception has occurred, use %tb to see the full traceback.\n",
      "\u001b[1;31mSystemExit\u001b[0m\u001b[1;31m:\u001b[0m 1\n"
     ]
    }
   ],
   "source": [
    "from fastapi import FastAPI, File, UploadFile, HTTPException\n",
    "from fastapi.responses import JSONResponse\n",
    "import numpy as np\n",
    "import cv2\n",
    "from facenet_pytorch import MTCNN, InceptionResnetV1\n",
    "import torch\n",
    "from PIL import Image\n",
    "import io\n",
    "import torch.nn.functional as F\n",
    "import nest_asyncio\n",
    "import uvicorn\n",
    "\n",
    "# Apply fix for Jupyter Notebook\n",
    "nest_asyncio.apply()\n",
    "\n",
    "app = FastAPI()\n",
    "\n",
    "# Initialize MTCNN and FaceNet models\n",
    "mtcnn = MTCNN(keep_all=False)  # Detect only one face\n",
    "resnet = InceptionResnetV1(pretrained='vggface2').eval()\n",
    "\n",
    "def read_image(file: UploadFile):\n",
    "    image = Image.open(io.BytesIO(file.file.read()))\n",
    "    return np.array(image)\n",
    "\n",
    "def extract_face(image):\n",
    "    boxes, _ = mtcnn.detect(image)\n",
    "    \n",
    "    if boxes is None or len(boxes) == 0:\n",
    "        raise HTTPException(status_code=400, detail=\"No face detected\")\n",
    "    \n",
    "    x1, y1, x2, y2 = map(int, boxes[0])  # Take first detected face\n",
    "    face = image[y1:y2, x1:x2]\n",
    "    \n",
    "    if face.size == 0:\n",
    "        raise HTTPException(status_code=400, detail=\"Invalid face detected\")\n",
    "    \n",
    "    return face\n",
    "\n",
    "def get_embedding(face):\n",
    "    face = Image.fromarray(face).resize((160, 160))  # Resize for FaceNet\n",
    "    face = np.array(face).astype(np.float32)\n",
    "    face = (face - 127.5) / 128.0  # Normalize\n",
    "    face = np.transpose(face, (2, 0, 1))\n",
    "    face = torch.tensor(face).unsqueeze(0)\n",
    "\n",
    "    with torch.no_grad():\n",
    "        embedding = resnet(face)\n",
    "\n",
    "    norm = torch.norm(embedding)\n",
    "    if norm == 0:\n",
    "        raise HTTPException(status_code=400, detail=\"Failed to compute face embedding\")\n",
    "    \n",
    "    return embedding / norm  # Normalize the embedding\n",
    "\n",
    "def cosine_similarity(embedding1, embedding2):\n",
    "    return F.cosine_similarity(embedding1, embedding2).item()\n",
    "\n",
    "@app.post(\"/verify-face\")\n",
    "async def verify_face(selfie: UploadFile = File(...), document: UploadFile = File(...)):\n",
    "    print(f\"Received selfie: {selfie.filename}, document: {document.filename}\")\n",
    "    \n",
    "    try:\n",
    "        selfie_image = read_image(selfie)\n",
    "        document_image = read_image(document)\n",
    "\n",
    "        print(\"Extracting faces...\")\n",
    "        selfie_face = extract_face(selfie_image)\n",
    "        document_face = extract_face(document_image)\n",
    "\n",
    "        print(\"Computing embeddings...\")\n",
    "        selfie_embedding = get_embedding(selfie_face)\n",
    "        document_embedding = get_embedding(document_face)\n",
    "\n",
    "        similarity_score = cosine_similarity(selfie_embedding, document_embedding)\n",
    "        match = similarity_score > 0.75\n",
    "\n",
    "        print(f\"Similarity Score: {similarity_score}, Match: {match}\")\n",
    "\n",
    "        return JSONResponse(content={\"match\": match, \"similarity_score\": similarity_score})\n",
    "\n",
    "    except Exception as e:\n",
    "        print(\"Error:\", str(e))\n",
    "        raise HTTPException(status_code=400, detail=str(e))\n",
    "\n",
    "if __name__ == \"__main__\":\n",
    "    uvicorn.run(app, host=\"0.0.0.0\", port=8000, reload=True, log_level=\"debug\")\n"
   ]
  },
  {
   "cell_type": "code",
   "execution_count": 12,
   "metadata": {},
   "outputs": [
    {
     "ename": "SystemExit",
     "evalue": "1",
     "output_type": "error",
     "traceback": [
      "\u001b[1;31m---------------------------------------------------------------------------\u001b[0m",
      "\u001b[1;31mSystemExit\u001b[0m                                Traceback (most recent call last)",
      "Cell \u001b[1;32mIn[11], line 87\u001b[0m\n\u001b[0;32m     84\u001b[0m         \u001b[38;5;28;01mraise\u001b[39;00m HTTPException(status_code\u001b[38;5;241m=\u001b[39m\u001b[38;5;241m400\u001b[39m, detail\u001b[38;5;241m=\u001b[39m\u001b[38;5;28mstr\u001b[39m(e))\n\u001b[0;32m     86\u001b[0m \u001b[38;5;28;01mif\u001b[39;00m \u001b[38;5;18m__name__\u001b[39m \u001b[38;5;241m==\u001b[39m \u001b[38;5;124m\"\u001b[39m\u001b[38;5;124m__main__\u001b[39m\u001b[38;5;124m\"\u001b[39m:\n\u001b[1;32m---> 87\u001b[0m     \u001b[43muvicorn\u001b[49m\u001b[38;5;241;43m.\u001b[39;49m\u001b[43mrun\u001b[49m\u001b[43m(\u001b[49m\u001b[43mapp\u001b[49m\u001b[43m,\u001b[49m\u001b[43m \u001b[49m\u001b[43mhost\u001b[49m\u001b[38;5;241;43m=\u001b[39;49m\u001b[38;5;124;43m\"\u001b[39;49m\u001b[38;5;124;43m0.0.0.0\u001b[39;49m\u001b[38;5;124;43m\"\u001b[39;49m\u001b[43m,\u001b[49m\u001b[43m \u001b[49m\u001b[43mport\u001b[49m\u001b[38;5;241;43m=\u001b[39;49m\u001b[38;5;241;43m8000\u001b[39;49m\u001b[43m,\u001b[49m\u001b[43m \u001b[49m\u001b[43mreload\u001b[49m\u001b[38;5;241;43m=\u001b[39;49m\u001b[38;5;28;43;01mTrue\u001b[39;49;00m\u001b[43m,\u001b[49m\u001b[43m \u001b[49m\u001b[43mlog_level\u001b[49m\u001b[38;5;241;43m=\u001b[39;49m\u001b[38;5;124;43m\"\u001b[39;49m\u001b[38;5;124;43mdebug\u001b[39;49m\u001b[38;5;124;43m\"\u001b[39;49m\u001b[43m)\u001b[49m\n",
      "File \u001b[1;32mc:\\Users\\User\\AppData\\Local\\Programs\\Python\\Python312\\Lib\\site-packages\\uvicorn\\main.py:569\u001b[0m, in \u001b[0;36mrun\u001b[1;34m(app, host, port, uds, fd, loop, http, ws, ws_max_size, ws_max_queue, ws_ping_interval, ws_ping_timeout, ws_per_message_deflate, lifespan, interface, reload, reload_dirs, reload_includes, reload_excludes, reload_delay, workers, env_file, log_config, log_level, access_log, proxy_headers, server_header, date_header, forwarded_allow_ips, root_path, limit_concurrency, backlog, limit_max_requests, timeout_keep_alive, timeout_graceful_shutdown, ssl_keyfile, ssl_certfile, ssl_keyfile_password, ssl_version, ssl_cert_reqs, ssl_ca_certs, ssl_ciphers, headers, use_colors, app_dir, factory, h11_max_incomplete_event_size)\u001b[0m\n\u001b[0;32m    567\u001b[0m     logger \u001b[38;5;241m=\u001b[39m logging\u001b[38;5;241m.\u001b[39mgetLogger(\u001b[38;5;124m\"\u001b[39m\u001b[38;5;124muvicorn.error\u001b[39m\u001b[38;5;124m\"\u001b[39m)\n\u001b[0;32m    568\u001b[0m     logger\u001b[38;5;241m.\u001b[39mwarning(\u001b[38;5;124m\"\u001b[39m\u001b[38;5;124mYou must pass the application as an import string to enable \u001b[39m\u001b[38;5;124m'\u001b[39m\u001b[38;5;124mreload\u001b[39m\u001b[38;5;124m'\u001b[39m\u001b[38;5;124m or \u001b[39m\u001b[38;5;124m\"\u001b[39m \u001b[38;5;124m\"\u001b[39m\u001b[38;5;124m'\u001b[39m\u001b[38;5;124mworkers\u001b[39m\u001b[38;5;124m'\u001b[39m\u001b[38;5;124m.\u001b[39m\u001b[38;5;124m\"\u001b[39m)\n\u001b[1;32m--> 569\u001b[0m     \u001b[43msys\u001b[49m\u001b[38;5;241;43m.\u001b[39;49m\u001b[43mexit\u001b[49m\u001b[43m(\u001b[49m\u001b[38;5;241;43m1\u001b[39;49m\u001b[43m)\u001b[49m\n\u001b[0;32m    571\u001b[0m \u001b[38;5;28;01mtry\u001b[39;00m:\n\u001b[0;32m    572\u001b[0m     \u001b[38;5;28;01mif\u001b[39;00m config\u001b[38;5;241m.\u001b[39mshould_reload:\n",
      "\u001b[1;31mSystemExit\u001b[0m: 1"
     ]
    }
   ],
   "source": [
    "%tb"
   ]
  }
 ],
 "metadata": {
  "kernelspec": {
   "display_name": "Python 3",
   "language": "python",
   "name": "python3"
  },
  "language_info": {
   "codemirror_mode": {
    "name": "ipython",
    "version": 3
   },
   "file_extension": ".py",
   "mimetype": "text/x-python",
   "name": "python",
   "nbconvert_exporter": "python",
   "pygments_lexer": "ipython3",
   "version": "3.12.1"
  }
 },
 "nbformat": 4,
 "nbformat_minor": 2
}
